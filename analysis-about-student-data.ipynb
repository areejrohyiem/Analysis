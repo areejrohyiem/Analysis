{
 "cells": [
  {
   "cell_type": "code",
   "execution_count": 1,
   "id": "8235d9bf",
   "metadata": {
    "execution": {
     "iopub.execute_input": "2024-03-26T21:14:45.595987Z",
     "iopub.status.busy": "2024-03-26T21:14:45.595222Z",
     "iopub.status.idle": "2024-03-26T21:14:48.276413Z",
     "shell.execute_reply": "2024-03-26T21:14:48.275370Z"
    },
    "papermill": {
     "duration": 2.697022,
     "end_time": "2024-03-26T21:14:48.279146",
     "exception": false,
     "start_time": "2024-03-26T21:14:45.582124",
     "status": "completed"
    },
    "tags": []
   },
   "outputs": [],
   "source": [
    "import pandas as pd\n",
    "import numpy as np\n",
    "import matplotlib.pyplot as plt\n",
    "import seaborn as sns"
   ]
  },
  {
   "cell_type": "code",
   "execution_count": 2,
   "id": "79088642",
   "metadata": {
    "execution": {
     "iopub.execute_input": "2024-03-26T21:14:48.303368Z",
     "iopub.status.busy": "2024-03-26T21:14:48.302168Z",
     "iopub.status.idle": "2024-03-26T21:14:48.342488Z",
     "shell.execute_reply": "2024-03-26T21:14:48.341209Z"
    },
    "papermill": {
     "duration": 0.055059,
     "end_time": "2024-03-26T21:14:48.344858",
     "exception": false,
     "start_time": "2024-03-26T21:14:48.289799",
     "status": "completed"
    },
    "tags": []
   },
   "outputs": [
    {
     "data": {
      "text/html": [
       "<div>\n",
       "<style scoped>\n",
       "    .dataframe tbody tr th:only-of-type {\n",
       "        vertical-align: middle;\n",
       "    }\n",
       "\n",
       "    .dataframe tbody tr th {\n",
       "        vertical-align: top;\n",
       "    }\n",
       "\n",
       "    .dataframe thead th {\n",
       "        text-align: right;\n",
       "    }\n",
       "</style>\n",
       "<table border=\"1\" class=\"dataframe\">\n",
       "  <thead>\n",
       "    <tr style=\"text-align: right;\">\n",
       "      <th></th>\n",
       "      <th>gender</th>\n",
       "      <th>race/ethnicity</th>\n",
       "      <th>parental level of education</th>\n",
       "      <th>lunch</th>\n",
       "      <th>test preparation course</th>\n",
       "      <th>math score</th>\n",
       "      <th>reading score</th>\n",
       "      <th>writing score</th>\n",
       "    </tr>\n",
       "  </thead>\n",
       "  <tbody>\n",
       "    <tr>\n",
       "      <th>0</th>\n",
       "      <td>female</td>\n",
       "      <td>group B</td>\n",
       "      <td>bachelor's degree</td>\n",
       "      <td>standard</td>\n",
       "      <td>none</td>\n",
       "      <td>72</td>\n",
       "      <td>72</td>\n",
       "      <td>74</td>\n",
       "    </tr>\n",
       "    <tr>\n",
       "      <th>1</th>\n",
       "      <td>female</td>\n",
       "      <td>group C</td>\n",
       "      <td>some college</td>\n",
       "      <td>standard</td>\n",
       "      <td>completed</td>\n",
       "      <td>69</td>\n",
       "      <td>90</td>\n",
       "      <td>88</td>\n",
       "    </tr>\n",
       "    <tr>\n",
       "      <th>2</th>\n",
       "      <td>female</td>\n",
       "      <td>group B</td>\n",
       "      <td>master's degree</td>\n",
       "      <td>standard</td>\n",
       "      <td>none</td>\n",
       "      <td>90</td>\n",
       "      <td>95</td>\n",
       "      <td>93</td>\n",
       "    </tr>\n",
       "    <tr>\n",
       "      <th>3</th>\n",
       "      <td>male</td>\n",
       "      <td>group A</td>\n",
       "      <td>associate's degree</td>\n",
       "      <td>free/reduced</td>\n",
       "      <td>none</td>\n",
       "      <td>47</td>\n",
       "      <td>57</td>\n",
       "      <td>44</td>\n",
       "    </tr>\n",
       "    <tr>\n",
       "      <th>4</th>\n",
       "      <td>male</td>\n",
       "      <td>group C</td>\n",
       "      <td>some college</td>\n",
       "      <td>standard</td>\n",
       "      <td>none</td>\n",
       "      <td>76</td>\n",
       "      <td>78</td>\n",
       "      <td>75</td>\n",
       "    </tr>\n",
       "    <tr>\n",
       "      <th>5</th>\n",
       "      <td>female</td>\n",
       "      <td>group B</td>\n",
       "      <td>associate's degree</td>\n",
       "      <td>standard</td>\n",
       "      <td>none</td>\n",
       "      <td>71</td>\n",
       "      <td>83</td>\n",
       "      <td>78</td>\n",
       "    </tr>\n",
       "    <tr>\n",
       "      <th>6</th>\n",
       "      <td>female</td>\n",
       "      <td>group B</td>\n",
       "      <td>some college</td>\n",
       "      <td>standard</td>\n",
       "      <td>completed</td>\n",
       "      <td>88</td>\n",
       "      <td>95</td>\n",
       "      <td>92</td>\n",
       "    </tr>\n",
       "    <tr>\n",
       "      <th>7</th>\n",
       "      <td>male</td>\n",
       "      <td>group B</td>\n",
       "      <td>some college</td>\n",
       "      <td>free/reduced</td>\n",
       "      <td>none</td>\n",
       "      <td>40</td>\n",
       "      <td>43</td>\n",
       "      <td>39</td>\n",
       "    </tr>\n",
       "    <tr>\n",
       "      <th>8</th>\n",
       "      <td>male</td>\n",
       "      <td>group D</td>\n",
       "      <td>high school</td>\n",
       "      <td>free/reduced</td>\n",
       "      <td>completed</td>\n",
       "      <td>64</td>\n",
       "      <td>64</td>\n",
       "      <td>67</td>\n",
       "    </tr>\n",
       "    <tr>\n",
       "      <th>9</th>\n",
       "      <td>female</td>\n",
       "      <td>group B</td>\n",
       "      <td>high school</td>\n",
       "      <td>free/reduced</td>\n",
       "      <td>none</td>\n",
       "      <td>38</td>\n",
       "      <td>60</td>\n",
       "      <td>50</td>\n",
       "    </tr>\n",
       "  </tbody>\n",
       "</table>\n",
       "</div>"
      ],
      "text/plain": [
       "   gender race/ethnicity parental level of education         lunch  \\\n",
       "0  female        group B           bachelor's degree      standard   \n",
       "1  female        group C                some college      standard   \n",
       "2  female        group B             master's degree      standard   \n",
       "3    male        group A          associate's degree  free/reduced   \n",
       "4    male        group C                some college      standard   \n",
       "5  female        group B          associate's degree      standard   \n",
       "6  female        group B                some college      standard   \n",
       "7    male        group B                some college  free/reduced   \n",
       "8    male        group D                 high school  free/reduced   \n",
       "9  female        group B                 high school  free/reduced   \n",
       "\n",
       "  test preparation course  math score  reading score  writing score  \n",
       "0                    none          72             72             74  \n",
       "1               completed          69             90             88  \n",
       "2                    none          90             95             93  \n",
       "3                    none          47             57             44  \n",
       "4                    none          76             78             75  \n",
       "5                    none          71             83             78  \n",
       "6               completed          88             95             92  \n",
       "7                    none          40             43             39  \n",
       "8               completed          64             64             67  \n",
       "9                    none          38             60             50  "
      ]
     },
     "execution_count": 2,
     "metadata": {},
     "output_type": "execute_result"
    }
   ],
   "source": [
    "student = pd.read_csv('/kaggle/input/students-performance-in-exams/StudentsPerformance.csv')\n",
    "student.head(10)"
   ]
  },
  {
   "cell_type": "code",
   "execution_count": 3,
   "id": "829c4aad",
   "metadata": {
    "execution": {
     "iopub.execute_input": "2024-03-26T21:14:48.369925Z",
     "iopub.status.busy": "2024-03-26T21:14:48.369001Z",
     "iopub.status.idle": "2024-03-26T21:14:48.376317Z",
     "shell.execute_reply": "2024-03-26T21:14:48.375113Z"
    },
    "papermill": {
     "duration": 0.022298,
     "end_time": "2024-03-26T21:14:48.378681",
     "exception": false,
     "start_time": "2024-03-26T21:14:48.356383",
     "status": "completed"
    },
    "tags": []
   },
   "outputs": [
    {
     "data": {
      "text/plain": [
       "1000"
      ]
     },
     "execution_count": 3,
     "metadata": {},
     "output_type": "execute_result"
    }
   ],
   "source": [
    "student.shape[0]"
   ]
  },
  {
   "cell_type": "code",
   "execution_count": 4,
   "id": "d2d1e597",
   "metadata": {
    "execution": {
     "iopub.execute_input": "2024-03-26T21:14:48.403548Z",
     "iopub.status.busy": "2024-03-26T21:14:48.402714Z",
     "iopub.status.idle": "2024-03-26T21:14:48.410703Z",
     "shell.execute_reply": "2024-03-26T21:14:48.409536Z"
    },
    "papermill": {
     "duration": 0.023376,
     "end_time": "2024-03-26T21:14:48.413368",
     "exception": false,
     "start_time": "2024-03-26T21:14:48.389992",
     "status": "completed"
    },
    "tags": []
   },
   "outputs": [
    {
     "data": {
      "text/plain": [
       "8"
      ]
     },
     "execution_count": 4,
     "metadata": {},
     "output_type": "execute_result"
    }
   ],
   "source": [
    "student.shape[1]"
   ]
  },
  {
   "cell_type": "code",
   "execution_count": 5,
   "id": "aba754ed",
   "metadata": {
    "execution": {
     "iopub.execute_input": "2024-03-26T21:14:48.438225Z",
     "iopub.status.busy": "2024-03-26T21:14:48.437807Z",
     "iopub.status.idle": "2024-03-26T21:14:48.464532Z",
     "shell.execute_reply": "2024-03-26T21:14:48.462848Z"
    },
    "papermill": {
     "duration": 0.042651,
     "end_time": "2024-03-26T21:14:48.467361",
     "exception": false,
     "start_time": "2024-03-26T21:14:48.424710",
     "status": "completed"
    },
    "tags": []
   },
   "outputs": [
    {
     "name": "stdout",
     "output_type": "stream",
     "text": [
      "<class 'pandas.core.frame.DataFrame'>\n",
      "RangeIndex: 1000 entries, 0 to 999\n",
      "Data columns (total 8 columns):\n",
      " #   Column                       Non-Null Count  Dtype \n",
      "---  ------                       --------------  ----- \n",
      " 0   gender                       1000 non-null   object\n",
      " 1   race/ethnicity               1000 non-null   object\n",
      " 2   parental level of education  1000 non-null   object\n",
      " 3   lunch                        1000 non-null   object\n",
      " 4   test preparation course      1000 non-null   object\n",
      " 5   math score                   1000 non-null   int64 \n",
      " 6   reading score                1000 non-null   int64 \n",
      " 7   writing score                1000 non-null   int64 \n",
      "dtypes: int64(3), object(5)\n",
      "memory usage: 62.6+ KB\n"
     ]
    }
   ],
   "source": [
    "student.info()"
   ]
  },
  {
   "cell_type": "code",
   "execution_count": 6,
   "id": "ce7d8247",
   "metadata": {
    "execution": {
     "iopub.execute_input": "2024-03-26T21:14:48.491740Z",
     "iopub.status.busy": "2024-03-26T21:14:48.491306Z",
     "iopub.status.idle": "2024-03-26T21:14:48.501530Z",
     "shell.execute_reply": "2024-03-26T21:14:48.500206Z"
    },
    "papermill": {
     "duration": 0.025212,
     "end_time": "2024-03-26T21:14:48.503944",
     "exception": false,
     "start_time": "2024-03-26T21:14:48.478732",
     "status": "completed"
    },
    "tags": []
   },
   "outputs": [
    {
     "data": {
      "text/plain": [
       "gender                         0\n",
       "race/ethnicity                 0\n",
       "parental level of education    0\n",
       "lunch                          0\n",
       "test preparation course        0\n",
       "math score                     0\n",
       "reading score                  0\n",
       "writing score                  0\n",
       "dtype: int64"
      ]
     },
     "execution_count": 6,
     "metadata": {},
     "output_type": "execute_result"
    }
   ],
   "source": [
    "student.isna().sum()"
   ]
  },
  {
   "cell_type": "code",
   "execution_count": 7,
   "id": "8d1ec165",
   "metadata": {
    "execution": {
     "iopub.execute_input": "2024-03-26T21:14:48.529821Z",
     "iopub.status.busy": "2024-03-26T21:14:48.529405Z",
     "iopub.status.idle": "2024-03-26T21:14:48.554934Z",
     "shell.execute_reply": "2024-03-26T21:14:48.553694Z"
    },
    "papermill": {
     "duration": 0.041414,
     "end_time": "2024-03-26T21:14:48.557490",
     "exception": false,
     "start_time": "2024-03-26T21:14:48.516076",
     "status": "completed"
    },
    "tags": []
   },
   "outputs": [
    {
     "data": {
      "text/html": [
       "<div>\n",
       "<style scoped>\n",
       "    .dataframe tbody tr th:only-of-type {\n",
       "        vertical-align: middle;\n",
       "    }\n",
       "\n",
       "    .dataframe tbody tr th {\n",
       "        vertical-align: top;\n",
       "    }\n",
       "\n",
       "    .dataframe thead th {\n",
       "        text-align: right;\n",
       "    }\n",
       "</style>\n",
       "<table border=\"1\" class=\"dataframe\">\n",
       "  <thead>\n",
       "    <tr style=\"text-align: right;\">\n",
       "      <th></th>\n",
       "      <th>math score</th>\n",
       "      <th>reading score</th>\n",
       "      <th>writing score</th>\n",
       "    </tr>\n",
       "  </thead>\n",
       "  <tbody>\n",
       "    <tr>\n",
       "      <th>count</th>\n",
       "      <td>1000.00000</td>\n",
       "      <td>1000.000000</td>\n",
       "      <td>1000.000000</td>\n",
       "    </tr>\n",
       "    <tr>\n",
       "      <th>mean</th>\n",
       "      <td>66.08900</td>\n",
       "      <td>69.169000</td>\n",
       "      <td>68.054000</td>\n",
       "    </tr>\n",
       "    <tr>\n",
       "      <th>std</th>\n",
       "      <td>15.16308</td>\n",
       "      <td>14.600192</td>\n",
       "      <td>15.195657</td>\n",
       "    </tr>\n",
       "    <tr>\n",
       "      <th>min</th>\n",
       "      <td>0.00000</td>\n",
       "      <td>17.000000</td>\n",
       "      <td>10.000000</td>\n",
       "    </tr>\n",
       "    <tr>\n",
       "      <th>25%</th>\n",
       "      <td>57.00000</td>\n",
       "      <td>59.000000</td>\n",
       "      <td>57.750000</td>\n",
       "    </tr>\n",
       "    <tr>\n",
       "      <th>50%</th>\n",
       "      <td>66.00000</td>\n",
       "      <td>70.000000</td>\n",
       "      <td>69.000000</td>\n",
       "    </tr>\n",
       "    <tr>\n",
       "      <th>75%</th>\n",
       "      <td>77.00000</td>\n",
       "      <td>79.000000</td>\n",
       "      <td>79.000000</td>\n",
       "    </tr>\n",
       "    <tr>\n",
       "      <th>max</th>\n",
       "      <td>100.00000</td>\n",
       "      <td>100.000000</td>\n",
       "      <td>100.000000</td>\n",
       "    </tr>\n",
       "  </tbody>\n",
       "</table>\n",
       "</div>"
      ],
      "text/plain": [
       "       math score  reading score  writing score\n",
       "count  1000.00000    1000.000000    1000.000000\n",
       "mean     66.08900      69.169000      68.054000\n",
       "std      15.16308      14.600192      15.195657\n",
       "min       0.00000      17.000000      10.000000\n",
       "25%      57.00000      59.000000      57.750000\n",
       "50%      66.00000      70.000000      69.000000\n",
       "75%      77.00000      79.000000      79.000000\n",
       "max     100.00000     100.000000     100.000000"
      ]
     },
     "execution_count": 7,
     "metadata": {},
     "output_type": "execute_result"
    }
   ],
   "source": [
    "student.describe()"
   ]
  },
  {
   "cell_type": "code",
   "execution_count": 8,
   "id": "3a3fb13b",
   "metadata": {
    "execution": {
     "iopub.execute_input": "2024-03-26T21:14:48.583532Z",
     "iopub.status.busy": "2024-03-26T21:14:48.583073Z",
     "iopub.status.idle": "2024-03-26T21:14:48.592680Z",
     "shell.execute_reply": "2024-03-26T21:14:48.591426Z"
    },
    "papermill": {
     "duration": 0.025577,
     "end_time": "2024-03-26T21:14:48.595687",
     "exception": false,
     "start_time": "2024-03-26T21:14:48.570110",
     "status": "completed"
    },
    "tags": []
   },
   "outputs": [
    {
     "data": {
      "text/plain": [
       "gender                         1\n",
       "race/ethnicity                 1\n",
       "parental level of education    1\n",
       "lunch                          1\n",
       "test preparation course        1\n",
       "math score                     1\n",
       "reading score                  1\n",
       "writing score                  1\n",
       "Name: count, dtype: int64"
      ]
     },
     "execution_count": 8,
     "metadata": {},
     "output_type": "execute_result"
    }
   ],
   "source": [
    "student.columns.value_counts()"
   ]
  },
  {
   "cell_type": "code",
   "execution_count": 9,
   "id": "92aa1210",
   "metadata": {
    "execution": {
     "iopub.execute_input": "2024-03-26T21:14:48.622130Z",
     "iopub.status.busy": "2024-03-26T21:14:48.621430Z",
     "iopub.status.idle": "2024-03-26T21:14:48.631387Z",
     "shell.execute_reply": "2024-03-26T21:14:48.630159Z"
    },
    "papermill": {
     "duration": 0.025683,
     "end_time": "2024-03-26T21:14:48.633756",
     "exception": false,
     "start_time": "2024-03-26T21:14:48.608073",
     "status": "completed"
    },
    "tags": []
   },
   "outputs": [
    {
     "data": {
      "text/plain": [
       "gender\n",
       "female    518\n",
       "male      482\n",
       "Name: count, dtype: int64"
      ]
     },
     "execution_count": 9,
     "metadata": {},
     "output_type": "execute_result"
    }
   ],
   "source": [
    "student.gender.value_counts()"
   ]
  },
  {
   "cell_type": "code",
   "execution_count": 10,
   "id": "0432c2e3",
   "metadata": {
    "execution": {
     "iopub.execute_input": "2024-03-26T21:14:48.659392Z",
     "iopub.status.busy": "2024-03-26T21:14:48.658959Z",
     "iopub.status.idle": "2024-03-26T21:14:48.668544Z",
     "shell.execute_reply": "2024-03-26T21:14:48.667097Z"
    },
    "papermill": {
     "duration": 0.025433,
     "end_time": "2024-03-26T21:14:48.671105",
     "exception": false,
     "start_time": "2024-03-26T21:14:48.645672",
     "status": "completed"
    },
    "tags": []
   },
   "outputs": [
    {
     "data": {
      "text/plain": [
       "race/ethnicity\n",
       "group C    319\n",
       "group D    262\n",
       "group B    190\n",
       "group E    140\n",
       "group A     89\n",
       "Name: count, dtype: int64"
      ]
     },
     "execution_count": 10,
     "metadata": {},
     "output_type": "execute_result"
    }
   ],
   "source": [
    "student['race/ethnicity'].value_counts()"
   ]
  },
  {
   "cell_type": "code",
   "execution_count": 11,
   "id": "7ba1234e",
   "metadata": {
    "execution": {
     "iopub.execute_input": "2024-03-26T21:14:48.697740Z",
     "iopub.status.busy": "2024-03-26T21:14:48.697321Z",
     "iopub.status.idle": "2024-03-26T21:14:48.706481Z",
     "shell.execute_reply": "2024-03-26T21:14:48.705262Z"
    },
    "papermill": {
     "duration": 0.025384,
     "end_time": "2024-03-26T21:14:48.709032",
     "exception": false,
     "start_time": "2024-03-26T21:14:48.683648",
     "status": "completed"
    },
    "tags": []
   },
   "outputs": [
    {
     "data": {
      "text/plain": [
       "parental level of education\n",
       "some college          226\n",
       "associate's degree    222\n",
       "high school           196\n",
       "some high school      179\n",
       "bachelor's degree     118\n",
       "master's degree        59\n",
       "Name: count, dtype: int64"
      ]
     },
     "execution_count": 11,
     "metadata": {},
     "output_type": "execute_result"
    }
   ],
   "source": [
    "student['parental level of education'].value_counts()"
   ]
  },
  {
   "cell_type": "code",
   "execution_count": 12,
   "id": "16f8de27",
   "metadata": {
    "execution": {
     "iopub.execute_input": "2024-03-26T21:14:48.736900Z",
     "iopub.status.busy": "2024-03-26T21:14:48.736527Z",
     "iopub.status.idle": "2024-03-26T21:14:48.745935Z",
     "shell.execute_reply": "2024-03-26T21:14:48.744839Z"
    },
    "papermill": {
     "duration": 0.026798,
     "end_time": "2024-03-26T21:14:48.748874",
     "exception": false,
     "start_time": "2024-03-26T21:14:48.722076",
     "status": "completed"
    },
    "tags": []
   },
   "outputs": [
    {
     "data": {
      "text/plain": [
       "lunch\n",
       "standard        645\n",
       "free/reduced    355\n",
       "Name: count, dtype: int64"
      ]
     },
     "execution_count": 12,
     "metadata": {},
     "output_type": "execute_result"
    }
   ],
   "source": [
    "student.lunch.value_counts()"
   ]
  },
  {
   "cell_type": "code",
   "execution_count": 13,
   "id": "bd2816b4",
   "metadata": {
    "execution": {
     "iopub.execute_input": "2024-03-26T21:14:48.775640Z",
     "iopub.status.busy": "2024-03-26T21:14:48.774970Z",
     "iopub.status.idle": "2024-03-26T21:14:48.784384Z",
     "shell.execute_reply": "2024-03-26T21:14:48.783191Z"
    },
    "papermill": {
     "duration": 0.025848,
     "end_time": "2024-03-26T21:14:48.787144",
     "exception": false,
     "start_time": "2024-03-26T21:14:48.761296",
     "status": "completed"
    },
    "tags": []
   },
   "outputs": [
    {
     "data": {
      "text/plain": [
       "test preparation course\n",
       "none         642\n",
       "completed    358\n",
       "Name: count, dtype: int64"
      ]
     },
     "execution_count": 13,
     "metadata": {},
     "output_type": "execute_result"
    }
   ],
   "source": [
    "student['test preparation course'].value_counts()"
   ]
  },
  {
   "cell_type": "code",
   "execution_count": 14,
   "id": "ff9d0deb",
   "metadata": {
    "execution": {
     "iopub.execute_input": "2024-03-26T21:14:48.815888Z",
     "iopub.status.busy": "2024-03-26T21:14:48.815519Z",
     "iopub.status.idle": "2024-03-26T21:14:49.225701Z",
     "shell.execute_reply": "2024-03-26T21:14:49.224320Z"
    },
    "papermill": {
     "duration": 0.428507,
     "end_time": "2024-03-26T21:14:49.228404",
     "exception": false,
     "start_time": "2024-03-26T21:14:48.799897",
     "status": "completed"
    },
    "tags": []
   },
   "outputs": [
    {
     "data": {
      "image/png": "[encoded data removed]",
      "text/plain": [
       "<Figure size 800x600 with 2 Axes>"
      ]
     },
     "metadata": {},
     "output_type": "display_data"
    }
   ],
   "source": [
    "continuous_cols = student.select_dtypes(include='number').columns\n",
    "correlation_matrix = student[continuous_cols].corr()\n",
    "plt.figure(figsize=(8,6)) # size\n",
    "sns.heatmap(correlation_matrix, annot=True, cmap='coolwarm')\n",
    "plt.show()"
   ]
  },
  {
   "cell_type": "code",
   "execution_count": 15,
   "id": "5d8a1889",
   "metadata": {
    "execution": {
     "iopub.execute_input": "2024-03-26T21:14:49.257858Z",
     "iopub.status.busy": "2024-03-26T21:14:49.257435Z",
     "iopub.status.idle": "2024-03-26T21:14:50.148802Z",
     "shell.execute_reply": "2024-03-26T21:14:50.147652Z"
    },
    "papermill": {
     "duration": 0.909846,
     "end_time": "2024-03-26T21:14:50.152160",
     "exception": false,
     "start_time": "2024-03-26T21:14:49.242314",
     "status": "completed"
    },
    "tags": []
   },
   "outputs": [
    {
     "data": {
      "image/png": "[encoded data removed]",
      "text/plain": [
       "<Figure size 1000x800 with 4 Axes>"
      ]
     },
     "metadata": {},
     "output_type": "display_data"
    }
   ],
   "source": [
    "student.hist(figsize=(10, 8))\n",
    "plt.tight_layout()\n",
    "plt.show()"
   ]
  },
  {
   "cell_type": "code",
   "execution_count": 16,
   "id": "fd7e1811",
   "metadata": {
    "execution": {
     "iopub.execute_input": "2024-03-26T21:14:50.181646Z",
     "iopub.status.busy": "2024-03-26T21:14:50.181207Z",
     "iopub.status.idle": "2024-03-26T21:14:50.189569Z",
     "shell.execute_reply": "2024-03-26T21:14:50.188528Z"
    },
    "papermill": {
     "duration": 0.025999,
     "end_time": "2024-03-26T21:14:50.191995",
     "exception": false,
     "start_time": "2024-03-26T21:14:50.165996",
     "status": "completed"
    },
    "tags": []
   },
   "outputs": [
    {
     "data": {
      "text/plain": [
       "<pandas.core.groupby.generic.DataFrameGroupBy object at 0x7aee61b8b2e0>"
      ]
     },
     "execution_count": 16,
     "metadata": {},
     "output_type": "execute_result"
    }
   ],
   "source": [
    "student.groupby('race/ethnicity')"
   ]
  },
  {
   "cell_type": "code",
   "execution_count": 17,
   "id": "d6ffb9f7",
   "metadata": {
    "execution": {
     "iopub.execute_input": "2024-03-26T21:14:50.222122Z",
     "iopub.status.busy": "2024-03-26T21:14:50.221693Z",
     "iopub.status.idle": "2024-03-26T21:14:50.270360Z",
     "shell.execute_reply": "2024-03-26T21:14:50.269187Z"
    },
    "papermill": {
     "duration": 0.067016,
     "end_time": "2024-03-26T21:14:50.273190",
     "exception": false,
     "start_time": "2024-03-26T21:14:50.206174",
     "status": "completed"
    },
    "tags": []
   },
   "outputs": [
    {
     "data": {
      "text/html": [
       "<div>\n",
       "<style scoped>\n",
       "    .dataframe tbody tr th:only-of-type {\n",
       "        vertical-align: middle;\n",
       "    }\n",
       "\n",
       "    .dataframe tbody tr th {\n",
       "        vertical-align: top;\n",
       "    }\n",
       "\n",
       "    .dataframe thead th {\n",
       "        text-align: right;\n",
       "    }\n",
       "</style>\n",
       "<table border=\"1\" class=\"dataframe\">\n",
       "  <thead>\n",
       "    <tr style=\"text-align: right;\">\n",
       "      <th>gender</th>\n",
       "      <th>female</th>\n",
       "      <th>male</th>\n",
       "      <th>All</th>\n",
       "    </tr>\n",
       "    <tr>\n",
       "      <th>race/ethnicity</th>\n",
       "      <th></th>\n",
       "      <th></th>\n",
       "      <th></th>\n",
       "    </tr>\n",
       "  </thead>\n",
       "  <tbody>\n",
       "    <tr>\n",
       "      <th>group A</th>\n",
       "      <td>36</td>\n",
       "      <td>53</td>\n",
       "      <td>89</td>\n",
       "    </tr>\n",
       "    <tr>\n",
       "      <th>group B</th>\n",
       "      <td>104</td>\n",
       "      <td>86</td>\n",
       "      <td>190</td>\n",
       "    </tr>\n",
       "    <tr>\n",
       "      <th>group C</th>\n",
       "      <td>180</td>\n",
       "      <td>139</td>\n",
       "      <td>319</td>\n",
       "    </tr>\n",
       "    <tr>\n",
       "      <th>group D</th>\n",
       "      <td>129</td>\n",
       "      <td>133</td>\n",
       "      <td>262</td>\n",
       "    </tr>\n",
       "    <tr>\n",
       "      <th>group E</th>\n",
       "      <td>69</td>\n",
       "      <td>71</td>\n",
       "      <td>140</td>\n",
       "    </tr>\n",
       "    <tr>\n",
       "      <th>All</th>\n",
       "      <td>518</td>\n",
       "      <td>482</td>\n",
       "      <td>1000</td>\n",
       "    </tr>\n",
       "  </tbody>\n",
       "</table>\n",
       "</div>"
      ],
      "text/plain": [
       "gender          female  male   All\n",
       "race/ethnicity                    \n",
       "group A             36    53    89\n",
       "group B            104    86   190\n",
       "group C            180   139   319\n",
       "group D            129   133   262\n",
       "group E             69    71   140\n",
       "All                518   482  1000"
      ]
     },
     "execution_count": 17,
     "metadata": {},
     "output_type": "execute_result"
    }
   ],
   "source": [
    "pd.crosstab(student['race/ethnicity'],student.gender, margins=True)"
   ]
  },
  {
   "cell_type": "code",
   "execution_count": 18,
   "id": "9d3684ca",
   "metadata": {
    "execution": {
     "iopub.execute_input": "2024-03-26T21:14:50.304094Z",
     "iopub.status.busy": "2024-03-26T21:14:50.303460Z",
     "iopub.status.idle": "2024-03-26T21:14:50.340627Z",
     "shell.execute_reply": "2024-03-26T21:14:50.339553Z"
    },
    "papermill": {
     "duration": 0.056142,
     "end_time": "2024-03-26T21:14:50.343455",
     "exception": false,
     "start_time": "2024-03-26T21:14:50.287313",
     "status": "completed"
    },
    "tags": []
   },
   "outputs": [
    {
     "data": {
      "text/html": [
       "<div>\n",
       "<style scoped>\n",
       "    .dataframe tbody tr th:only-of-type {\n",
       "        vertical-align: middle;\n",
       "    }\n",
       "\n",
       "    .dataframe tbody tr th {\n",
       "        vertical-align: top;\n",
       "    }\n",
       "\n",
       "    .dataframe thead th {\n",
       "        text-align: right;\n",
       "    }\n",
       "</style>\n",
       "<table border=\"1\" class=\"dataframe\">\n",
       "  <thead>\n",
       "    <tr style=\"text-align: right;\">\n",
       "      <th>test preparation course</th>\n",
       "      <th>completed</th>\n",
       "      <th>none</th>\n",
       "      <th>All</th>\n",
       "    </tr>\n",
       "    <tr>\n",
       "      <th>race/ethnicity</th>\n",
       "      <th></th>\n",
       "      <th></th>\n",
       "      <th></th>\n",
       "    </tr>\n",
       "  </thead>\n",
       "  <tbody>\n",
       "    <tr>\n",
       "      <th>group A</th>\n",
       "      <td>31</td>\n",
       "      <td>58</td>\n",
       "      <td>89</td>\n",
       "    </tr>\n",
       "    <tr>\n",
       "      <th>group B</th>\n",
       "      <td>68</td>\n",
       "      <td>122</td>\n",
       "      <td>190</td>\n",
       "    </tr>\n",
       "    <tr>\n",
       "      <th>group C</th>\n",
       "      <td>117</td>\n",
       "      <td>202</td>\n",
       "      <td>319</td>\n",
       "    </tr>\n",
       "    <tr>\n",
       "      <th>group D</th>\n",
       "      <td>82</td>\n",
       "      <td>180</td>\n",
       "      <td>262</td>\n",
       "    </tr>\n",
       "    <tr>\n",
       "      <th>group E</th>\n",
       "      <td>60</td>\n",
       "      <td>80</td>\n",
       "      <td>140</td>\n",
       "    </tr>\n",
       "    <tr>\n",
       "      <th>All</th>\n",
       "      <td>358</td>\n",
       "      <td>642</td>\n",
       "      <td>1000</td>\n",
       "    </tr>\n",
       "  </tbody>\n",
       "</table>\n",
       "</div>"
      ],
      "text/plain": [
       "test preparation course  completed  none   All\n",
       "race/ethnicity                                \n",
       "group A                         31    58    89\n",
       "group B                         68   122   190\n",
       "group C                        117   202   319\n",
       "group D                         82   180   262\n",
       "group E                         60    80   140\n",
       "All                            358   642  1000"
      ]
     },
     "execution_count": 18,
     "metadata": {},
     "output_type": "execute_result"
    }
   ],
   "source": [
    " pd.crosstab(student['race/ethnicity'],student['test preparation course'], margins=True)"
   ]
  },
  {
   "cell_type": "code",
   "execution_count": 19,
   "id": "591992b2",
   "metadata": {
    "execution": {
     "iopub.execute_input": "2024-03-26T21:14:50.375416Z",
     "iopub.status.busy": "2024-03-26T21:14:50.374961Z",
     "iopub.status.idle": "2024-03-26T21:14:50.412705Z",
     "shell.execute_reply": "2024-03-26T21:14:50.411523Z"
    },
    "papermill": {
     "duration": 0.057224,
     "end_time": "2024-03-26T21:14:50.415229",
     "exception": false,
     "start_time": "2024-03-26T21:14:50.358005",
     "status": "completed"
    },
    "tags": []
   },
   "outputs": [
    {
     "data": {
      "text/html": [
       "<div>\n",
       "<style scoped>\n",
       "    .dataframe tbody tr th:only-of-type {\n",
       "        vertical-align: middle;\n",
       "    }\n",
       "\n",
       "    .dataframe tbody tr th {\n",
       "        vertical-align: top;\n",
       "    }\n",
       "\n",
       "    .dataframe thead th {\n",
       "        text-align: right;\n",
       "    }\n",
       "</style>\n",
       "<table border=\"1\" class=\"dataframe\">\n",
       "  <thead>\n",
       "    <tr style=\"text-align: right;\">\n",
       "      <th>gender</th>\n",
       "      <th>female</th>\n",
       "      <th>male</th>\n",
       "      <th>All</th>\n",
       "    </tr>\n",
       "    <tr>\n",
       "      <th>lunch</th>\n",
       "      <th></th>\n",
       "      <th></th>\n",
       "      <th></th>\n",
       "    </tr>\n",
       "  </thead>\n",
       "  <tbody>\n",
       "    <tr>\n",
       "      <th>free/reduced</th>\n",
       "      <td>189</td>\n",
       "      <td>166</td>\n",
       "      <td>355</td>\n",
       "    </tr>\n",
       "    <tr>\n",
       "      <th>standard</th>\n",
       "      <td>329</td>\n",
       "      <td>316</td>\n",
       "      <td>645</td>\n",
       "    </tr>\n",
       "    <tr>\n",
       "      <th>All</th>\n",
       "      <td>518</td>\n",
       "      <td>482</td>\n",
       "      <td>1000</td>\n",
       "    </tr>\n",
       "  </tbody>\n",
       "</table>\n",
       "</div>"
      ],
      "text/plain": [
       "gender        female  male   All\n",
       "lunch                           \n",
       "free/reduced     189   166   355\n",
       "standard         329   316   645\n",
       "All              518   482  1000"
      ]
     },
     "execution_count": 19,
     "metadata": {},
     "output_type": "execute_result"
    }
   ],
   "source": [
    " pd.crosstab(student['lunch'],student['gender'], margins=True)"
   ]
  },
  {
   "cell_type": "code",
   "execution_count": 20,
   "id": "324c2a45",
   "metadata": {
    "execution": {
     "iopub.execute_input": "2024-03-26T21:14:50.447347Z",
     "iopub.status.busy": "2024-03-26T21:14:50.446519Z",
     "iopub.status.idle": "2024-03-26T21:14:50.501455Z",
     "shell.execute_reply": "2024-03-26T21:14:50.500283Z"
    },
    "papermill": {
     "duration": 0.073998,
     "end_time": "2024-03-26T21:14:50.503996",
     "exception": false,
     "start_time": "2024-03-26T21:14:50.429998",
     "status": "completed"
    },
    "tags": []
   },
   "outputs": [
    {
     "data": {
      "text/html": [
       "<div>\n",
       "<style scoped>\n",
       "    .dataframe tbody tr th:only-of-type {\n",
       "        vertical-align: middle;\n",
       "    }\n",
       "\n",
       "    .dataframe tbody tr th {\n",
       "        vertical-align: top;\n",
       "    }\n",
       "\n",
       "    .dataframe thead tr th {\n",
       "        text-align: left;\n",
       "    }\n",
       "\n",
       "    .dataframe thead tr:last-of-type th {\n",
       "        text-align: right;\n",
       "    }\n",
       "</style>\n",
       "<table border=\"1\" class=\"dataframe\">\n",
       "  <thead>\n",
       "    <tr>\n",
       "      <th>test preparation course</th>\n",
       "      <th colspan=\"6\" halign=\"left\">completed</th>\n",
       "      <th colspan=\"6\" halign=\"left\">none</th>\n",
       "      <th>All</th>\n",
       "    </tr>\n",
       "    <tr>\n",
       "      <th>parental level of education</th>\n",
       "      <th>associate's degree</th>\n",
       "      <th>bachelor's degree</th>\n",
       "      <th>high school</th>\n",
       "      <th>master's degree</th>\n",
       "      <th>some college</th>\n",
       "      <th>some high school</th>\n",
       "      <th>associate's degree</th>\n",
       "      <th>bachelor's degree</th>\n",
       "      <th>high school</th>\n",
       "      <th>master's degree</th>\n",
       "      <th>some college</th>\n",
       "      <th>some high school</th>\n",
       "      <th></th>\n",
       "    </tr>\n",
       "    <tr>\n",
       "      <th>gender</th>\n",
       "      <th></th>\n",
       "      <th></th>\n",
       "      <th></th>\n",
       "      <th></th>\n",
       "      <th></th>\n",
       "      <th></th>\n",
       "      <th></th>\n",
       "      <th></th>\n",
       "      <th></th>\n",
       "      <th></th>\n",
       "      <th></th>\n",
       "      <th></th>\n",
       "      <th></th>\n",
       "    </tr>\n",
       "  </thead>\n",
       "  <tbody>\n",
       "    <tr>\n",
       "      <th>female</th>\n",
       "      <td>42</td>\n",
       "      <td>22</td>\n",
       "      <td>29</td>\n",
       "      <td>14</td>\n",
       "      <td>42</td>\n",
       "      <td>35</td>\n",
       "      <td>74</td>\n",
       "      <td>41</td>\n",
       "      <td>65</td>\n",
       "      <td>22</td>\n",
       "      <td>76</td>\n",
       "      <td>56</td>\n",
       "      <td>518</td>\n",
       "    </tr>\n",
       "    <tr>\n",
       "      <th>male</th>\n",
       "      <td>40</td>\n",
       "      <td>24</td>\n",
       "      <td>27</td>\n",
       "      <td>6</td>\n",
       "      <td>35</td>\n",
       "      <td>42</td>\n",
       "      <td>66</td>\n",
       "      <td>31</td>\n",
       "      <td>75</td>\n",
       "      <td>17</td>\n",
       "      <td>73</td>\n",
       "      <td>46</td>\n",
       "      <td>482</td>\n",
       "    </tr>\n",
       "    <tr>\n",
       "      <th>All</th>\n",
       "      <td>82</td>\n",
       "      <td>46</td>\n",
       "      <td>56</td>\n",
       "      <td>20</td>\n",
       "      <td>77</td>\n",
       "      <td>77</td>\n",
       "      <td>140</td>\n",
       "      <td>72</td>\n",
       "      <td>140</td>\n",
       "      <td>39</td>\n",
       "      <td>149</td>\n",
       "      <td>102</td>\n",
       "      <td>1000</td>\n",
       "    </tr>\n",
       "  </tbody>\n",
       "</table>\n",
       "</div>"
      ],
      "text/plain": [
       "test preparation course              completed                                \\\n",
       "parental level of education associate's degree bachelor's degree high school   \n",
       "gender                                                                         \n",
       "female                                      42                22          29   \n",
       "male                                        40                24          27   \n",
       "All                                         82                46          56   \n",
       "\n",
       "test preparation course                                                    \\\n",
       "parental level of education master's degree some college some high school   \n",
       "gender                                                                      \n",
       "female                                   14           42               35   \n",
       "male                                      6           35               42   \n",
       "All                                      20           77               77   \n",
       "\n",
       "test preparation course                   none                                \\\n",
       "parental level of education associate's degree bachelor's degree high school   \n",
       "gender                                                                         \n",
       "female                                      74                41          65   \n",
       "male                                        66                31          75   \n",
       "All                                        140                72         140   \n",
       "\n",
       "test preparation course                                                    \\\n",
       "parental level of education master's degree some college some high school   \n",
       "gender                                                                      \n",
       "female                                   22           76               56   \n",
       "male                                     17           73               46   \n",
       "All                                      39          149              102   \n",
       "\n",
       "test preparation course       All  \n",
       "parental level of education        \n",
       "gender                             \n",
       "female                        518  \n",
       "male                          482  \n",
       "All                          1000  "
      ]
     },
     "execution_count": 20,
     "metadata": {},
     "output_type": "execute_result"
    }
   ],
   "source": [
    "pd.crosstab(student.gender, [student['test preparation course'],student['parental level of education']], margins=True)"
   ]
  },
  {
   "cell_type": "code",
   "execution_count": 21,
   "id": "ba112946",
   "metadata": {
    "execution": {
     "iopub.execute_input": "2024-03-26T21:14:50.536433Z",
     "iopub.status.busy": "2024-03-26T21:14:50.536026Z",
     "iopub.status.idle": "2024-03-26T21:14:50.545306Z",
     "shell.execute_reply": "2024-03-26T21:14:50.544183Z"
    },
    "papermill": {
     "duration": 0.028543,
     "end_time": "2024-03-26T21:14:50.547687",
     "exception": false,
     "start_time": "2024-03-26T21:14:50.519144",
     "status": "completed"
    },
    "tags": []
   },
   "outputs": [
    {
     "data": {
      "text/plain": [
       "149      male\n",
       "451    female\n",
       "458    female\n",
       "623      male\n",
       "625      male\n",
       "916      male\n",
       "962    female\n",
       "Name: gender, dtype: object"
      ]
     },
     "execution_count": 21,
     "metadata": {},
     "output_type": "execute_result"
    }
   ],
   "source": [
    "student['gender'][student['math score']==student['math score'].max()]"
   ]
  },
  {
   "cell_type": "code",
   "execution_count": 22,
   "id": "f95faeec",
   "metadata": {
    "execution": {
     "iopub.execute_input": "2024-03-26T21:14:50.581304Z",
     "iopub.status.busy": "2024-03-26T21:14:50.580161Z",
     "iopub.status.idle": "2024-03-26T21:14:50.590366Z",
     "shell.execute_reply": "2024-03-26T21:14:50.589181Z"
    },
    "papermill": {
     "duration": 0.029212,
     "end_time": "2024-03-26T21:14:50.592719",
     "exception": false,
     "start_time": "2024-03-26T21:14:50.563507",
     "status": "completed"
    },
    "tags": []
   },
   "outputs": [
    {
     "data": {
      "text/plain": [
       "59    female\n",
       "Name: gender, dtype: object"
      ]
     },
     "execution_count": 22,
     "metadata": {},
     "output_type": "execute_result"
    }
   ],
   "source": [
    "student['gender'][student['math score']==student['math score'].min()]"
   ]
  },
  {
   "cell_type": "code",
   "execution_count": 23,
   "id": "c663f7aa",
   "metadata": {
    "execution": {
     "iopub.execute_input": "2024-03-26T21:14:50.627730Z",
     "iopub.status.busy": "2024-03-26T21:14:50.626965Z",
     "iopub.status.idle": "2024-03-26T21:14:50.640235Z",
     "shell.execute_reply": "2024-03-26T21:14:50.638794Z"
    },
    "papermill": {
     "duration": 0.034349,
     "end_time": "2024-03-26T21:14:50.643306",
     "exception": false,
     "start_time": "2024-03-26T21:14:50.608957",
     "status": "completed"
    },
    "tags": []
   },
   "outputs": [
    {
     "data": {
      "text/html": [
       "<div>\n",
       "<style scoped>\n",
       "    .dataframe tbody tr th:only-of-type {\n",
       "        vertical-align: middle;\n",
       "    }\n",
       "\n",
       "    .dataframe tbody tr th {\n",
       "        vertical-align: top;\n",
       "    }\n",
       "\n",
       "    .dataframe thead th {\n",
       "        text-align: right;\n",
       "    }\n",
       "</style>\n",
       "<table border=\"1\" class=\"dataframe\">\n",
       "  <thead>\n",
       "    <tr style=\"text-align: right;\">\n",
       "      <th></th>\n",
       "      <th>gender</th>\n",
       "      <th>race/ethnicity</th>\n",
       "      <th>parental level of education</th>\n",
       "      <th>lunch</th>\n",
       "      <th>test preparation course</th>\n",
       "      <th>math score</th>\n",
       "      <th>reading score</th>\n",
       "      <th>writing score</th>\n",
       "    </tr>\n",
       "  </thead>\n",
       "  <tbody>\n",
       "    <tr>\n",
       "      <th>0</th>\n",
       "      <td>female</td>\n",
       "      <td>group B</td>\n",
       "      <td>bachelor's degree</td>\n",
       "      <td>standard</td>\n",
       "      <td>none</td>\n",
       "      <td>72</td>\n",
       "      <td>72</td>\n",
       "      <td>74</td>\n",
       "    </tr>\n",
       "    <tr>\n",
       "      <th>1</th>\n",
       "      <td>female</td>\n",
       "      <td>group C</td>\n",
       "      <td>some college</td>\n",
       "      <td>standard</td>\n",
       "      <td>completed</td>\n",
       "      <td>69</td>\n",
       "      <td>90</td>\n",
       "      <td>88</td>\n",
       "    </tr>\n",
       "  </tbody>\n",
       "</table>\n",
       "</div>"
      ],
      "text/plain": [
       "   gender race/ethnicity parental level of education     lunch  \\\n",
       "0  female        group B           bachelor's degree  standard   \n",
       "1  female        group C                some college  standard   \n",
       "\n",
       "  test preparation course  math score  reading score  writing score  \n",
       "0                    none          72             72             74  \n",
       "1               completed          69             90             88  "
      ]
     },
     "execution_count": 23,
     "metadata": {},
     "output_type": "execute_result"
    }
   ],
   "source": [
    "student.head(2)"
   ]
  },
  {
   "cell_type": "code",
   "execution_count": 24,
   "id": "67cad493",
   "metadata": {
    "execution": {
     "iopub.execute_input": "2024-03-26T21:14:50.676206Z",
     "iopub.status.busy": "2024-03-26T21:14:50.675790Z",
     "iopub.status.idle": "2024-03-26T21:14:50.685872Z",
     "shell.execute_reply": "2024-03-26T21:14:50.684645Z"
    },
    "papermill": {
     "duration": 0.029422,
     "end_time": "2024-03-26T21:14:50.688350",
     "exception": false,
     "start_time": "2024-03-26T21:14:50.658928",
     "status": "completed"
    },
    "tags": []
   },
   "outputs": [
    {
     "data": {
      "text/plain": [
       "149      male\n",
       "451    female\n",
       "458    female\n",
       "623      male\n",
       "625      male\n",
       "916      male\n",
       "962    female\n",
       "Name: gender, dtype: object"
      ]
     },
     "execution_count": 24,
     "metadata": {},
     "output_type": "execute_result"
    }
   ],
   "source": [
    "student['gender'][student['math score']==student['reading score'].max()]"
   ]
  },
  {
   "cell_type": "code",
   "execution_count": 25,
   "id": "fd44fcd1",
   "metadata": {
    "execution": {
     "iopub.execute_input": "2024-03-26T21:14:50.722343Z",
     "iopub.status.busy": "2024-03-26T21:14:50.721208Z",
     "iopub.status.idle": "2024-03-26T21:14:50.731523Z",
     "shell.execute_reply": "2024-03-26T21:14:50.730256Z"
    },
    "papermill": {
     "duration": 0.030136,
     "end_time": "2024-03-26T21:14:50.734207",
     "exception": false,
     "start_time": "2024-03-26T21:14:50.704071",
     "status": "completed"
    },
    "tags": []
   },
   "outputs": [
    {
     "data": {
      "text/plain": [
       "149      male\n",
       "451    female\n",
       "458    female\n",
       "623      male\n",
       "625      male\n",
       "916      male\n",
       "962    female\n",
       "Name: gender, dtype: object"
      ]
     },
     "execution_count": 25,
     "metadata": {},
     "output_type": "execute_result"
    }
   ],
   "source": [
    "student['gender'][student['math score']==student['writing score'].max()]\n"
   ]
  },
  {
   "cell_type": "code",
   "execution_count": 26,
   "id": "4c05fe6e",
   "metadata": {
    "execution": {
     "iopub.execute_input": "2024-03-26T21:14:50.768474Z",
     "iopub.status.busy": "2024-03-26T21:14:50.767278Z",
     "iopub.status.idle": "2024-03-26T21:14:50.776654Z",
     "shell.execute_reply": "2024-03-26T21:14:50.775407Z"
    },
    "papermill": {
     "duration": 0.029273,
     "end_time": "2024-03-26T21:14:50.779399",
     "exception": false,
     "start_time": "2024-03-26T21:14:50.750126",
     "status": "completed"
    },
    "tags": []
   },
   "outputs": [
    {
     "data": {
      "text/plain": [
       "7"
      ]
     },
     "execution_count": 26,
     "metadata": {},
     "output_type": "execute_result"
    }
   ],
   "source": [
    "student['gender'][student['math score']==student['writing score'].max()].count()"
   ]
  },
  {
   "cell_type": "code",
   "execution_count": 27,
   "id": "73df107d",
   "metadata": {
    "execution": {
     "iopub.execute_input": "2024-03-26T21:14:50.814279Z",
     "iopub.status.busy": "2024-03-26T21:14:50.813503Z",
     "iopub.status.idle": "2024-03-26T21:14:50.823382Z",
     "shell.execute_reply": "2024-03-26T21:14:50.822436Z"
    },
    "papermill": {
     "duration": 0.030276,
     "end_time": "2024-03-26T21:14:50.825751",
     "exception": false,
     "start_time": "2024-03-26T21:14:50.795475",
     "status": "completed"
    },
    "tags": []
   },
   "outputs": [
    {
     "data": {
      "text/plain": [
       "149    completed\n",
       "451         none\n",
       "458         none\n",
       "623    completed\n",
       "625    completed\n",
       "916    completed\n",
       "962         none\n",
       "Name: test preparation course, dtype: object"
      ]
     },
     "execution_count": 27,
     "metadata": {},
     "output_type": "execute_result"
    }
   ],
   "source": [
    "student['test preparation course'][student['math score']==student['reading score'].max()]"
   ]
  },
  {
   "cell_type": "code",
   "execution_count": 28,
   "id": "9b102832",
   "metadata": {
    "execution": {
     "iopub.execute_input": "2024-03-26T21:14:50.860945Z",
     "iopub.status.busy": "2024-03-26T21:14:50.860558Z",
     "iopub.status.idle": "2024-03-26T21:14:51.018994Z",
     "shell.execute_reply": "2024-03-26T21:14:51.017157Z"
    },
    "papermill": {
     "duration": 0.180926,
     "end_time": "2024-03-26T21:14:51.023668",
     "exception": false,
     "start_time": "2024-03-26T21:14:50.842742",
     "status": "completed"
    },
    "tags": []
   },
   "outputs": [
    {
     "data": {
      "image/png": "[encoded data removed]",
      "text/plain": [
       "<Figure size 600x400 with 1 Axes>"
      ]
     },
     "metadata": {},
     "output_type": "display_data"
    }
   ],
   "source": [
    "gender_counts = student['gender'].value_counts()\n",
    "\n",
    "# Define colors for each category\n",
    "colors = ['cyan', 'pink']\n",
    "\n",
    "# Plotting the pie chart\n",
    "plt.figure(figsize=(6,4))\n",
    "plt.pie(gender_counts, labels=gender_counts.index, autopct='%1.1f%%', startangle=140, colors=colors)\n",
    "plt.title('Gender Distribution of Students')\n",
    "plt.axis('equal')  # Equal aspect ratio ensures that pie is drawn as a circle.\n",
    "plt.show()"
   ]
  },
  {
   "cell_type": "code",
   "execution_count": 29,
   "id": "42015871",
   "metadata": {
    "execution": {
     "iopub.execute_input": "2024-03-26T21:14:51.087443Z",
     "iopub.status.busy": "2024-03-26T21:14:51.087011Z",
     "iopub.status.idle": "2024-03-26T21:14:51.231624Z",
     "shell.execute_reply": "2024-03-26T21:14:51.229956Z"
    },
    "papermill": {
     "duration": 0.174156,
     "end_time": "2024-03-26T21:14:51.236842",
     "exception": false,
     "start_time": "2024-03-26T21:14:51.062686",
     "status": "completed"
    },
    "tags": []
   },
   "outputs": [
    {
     "data": {
      "image/png": "[encoded data removed]",
      "text/plain": [
       "<Figure size 600x400 with 1 Axes>"
      ]
     },
     "metadata": {},
     "output_type": "display_data"
    }
   ],
   "source": [
    "lunch_counts = student['lunch'].value_counts()\n",
    "\n",
    "# Plotting the pie chart\n",
    "plt.figure(figsize=(6,4))\n",
    "plt.pie(lunch_counts, labels=lunch_counts.index, autopct='%1.1f%%', startangle=140)\n",
    "plt.title('lunch Distribution of Students')\n",
    "plt.axis('equal')  # Equal aspect ratio ensures that pie is drawn as a circle.\n",
    "plt.show()"
   ]
  },
  {
   "cell_type": "code",
   "execution_count": 30,
   "id": "017693a1",
   "metadata": {
    "execution": {
     "iopub.execute_input": "2024-03-26T21:14:51.301544Z",
     "iopub.status.busy": "2024-03-26T21:14:51.300590Z",
     "iopub.status.idle": "2024-03-26T21:14:51.493683Z",
     "shell.execute_reply": "2024-03-26T21:14:51.492040Z"
    },
    "papermill": {
     "duration": 0.221836,
     "end_time": "2024-03-26T21:14:51.498306",
     "exception": false,
     "start_time": "2024-03-26T21:14:51.276470",
     "status": "completed"
    },
    "tags": []
   },
   "outputs": [
    {
     "data": {
      "image/png": "[encoded data removed]",
      "text/plain": [
       "<Figure size 600x400 with 1 Axes>"
      ]
     },
     "metadata": {},
     "output_type": "display_data"
    }
   ],
   "source": [
    "parent_counts = student['parental level of education'].value_counts()\n",
    "# Plotting the pie chart\n",
    "plt.figure(figsize=(6,4))\n",
    "plt.pie(parent_counts, labels=parent_counts.index, autopct='%1.1f%%', startangle=140)\n",
    "plt.title('parent Distribution of Students')\n",
    "plt.axis('equal')  # Equal aspect ratio ensures that pie is drawn as a circle.\n",
    "plt.show()"
   ]
  },
  {
   "cell_type": "code",
   "execution_count": 31,
   "id": "b1084779",
   "metadata": {
    "execution": {
     "iopub.execute_input": "2024-03-26T21:14:51.551731Z",
     "iopub.status.busy": "2024-03-26T21:14:51.551007Z",
     "iopub.status.idle": "2024-03-26T21:14:51.695863Z",
     "shell.execute_reply": "2024-03-26T21:14:51.694180Z"
    },
    "papermill": {
     "duration": 0.169818,
     "end_time": "2024-03-26T21:14:51.700791",
     "exception": false,
     "start_time": "2024-03-26T21:14:51.530973",
     "status": "completed"
    },
    "tags": []
   },
   "outputs": [
    {
     "data": {
      "image/png": "[encoded data removed]",
      "text/plain": [
       "<Figure size 600x400 with 1 Axes>"
      ]
     },
     "metadata": {},
     "output_type": "display_data"
    }
   ],
   "source": [
    "prepare_counts = student['test preparation course'].value_counts()\n",
    "# Plotting the pie chart\n",
    "plt.figure(figsize=(6,4))\n",
    "plt.pie(prepare_counts, labels=prepare_counts.index, autopct='%1.1f%%', startangle=140)\n",
    "plt.title('prepare Distribution of Students')\n",
    "plt.axis('equal')  # Equal aspect ratio ensures that pie is drawn as a circle.\n",
    "plt.show()"
   ]
  },
  {
   "cell_type": "code",
   "execution_count": null,
   "id": "c44e6be9",
   "metadata": {
    "papermill": {
     "duration": 0.024076,
     "end_time": "2024-03-26T21:14:51.765957",
     "exception": false,
     "start_time": "2024-03-26T21:14:51.741881",
     "status": "completed"
    },
    "tags": []
   },
   "outputs": [],
   "source": []
  }
 ],
 "metadata": {
  "kaggle": {
   "accelerator": "none",
   "dataSources": [
    {
     "datasetId": 74977,
     "sourceId": 169835,
     "sourceType": "datasetVersion"
    }
   ],
   "dockerImageVersionId": 30673,
   "isGpuEnabled": false,
   "isInternetEnabled": true,
   "language": "python",
   "sourceType": "notebook"
  },
  "kernelspec": {
   "display_name": "Python 3",
   "language": "python",
   "name": "python3"
  },
  "language_info": {
   "codemirror_mode": {
    "name": "ipython",
    "version": 3
   },
   "file_extension": ".py",
   "mimetype": "text/x-python",
   "name": "python",
   "nbconvert_exporter": "python",
   "pygments_lexer": "ipython3",
   "version": "3.10.13"
  },
  "papermill": {
   "default_parameters": {},
   "duration": 10.067154,
   "end_time": "2024-03-26T21:14:52.511999",
   "environment_variables": {},
   "exception": null,
   "input_path": "__notebook__.ipynb",
   "output_path": "__notebook__.ipynb",
   "parameters": {},
   "start_time": "2024-03-26T21:14:42.444845",
   "version": "2.5.0"
  }
 },
 "nbformat": 4,
 "nbformat_minor": 5
}
